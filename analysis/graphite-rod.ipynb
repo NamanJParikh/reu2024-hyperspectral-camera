{
 "cells": [
  {
   "cell_type": "code",
   "execution_count": 1,
   "id": "d9bbd76f",
   "metadata": {},
   "outputs": [
    {
     "name": "stdout",
     "output_type": "stream",
     "text": [
      "Intel MKL WARNING: Support of Intel(R) Streaming SIMD Extensions 4.2 (Intel(R) SSE4.2) enabled only processors has been deprecated. Intel oneAPI Math Kernel Library 2025.0 will require Intel(R) Advanced Vector Extensions (Intel(R) AVX) instructions.\n",
      "Intel MKL WARNING: Support of Intel(R) Streaming SIMD Extensions 4.2 (Intel(R) SSE4.2) enabled only processors has been deprecated. Intel oneAPI Math Kernel Library 2025.0 will require Intel(R) Advanced Vector Extensions (Intel(R) AVX) instructions.\n"
     ]
    }
   ],
   "source": [
    "# imports\n",
    "\n",
    "from spectral import imshow, view_cube\n",
    "import spectral.io.envi as envi\n",
    "import numpy as np\n",
    "import matplotlib.pyplot as plt\n",
    "import matplotlib\n",
    "from scipy.optimize import curve_fit\n",
    "from scipy.optimize import least_squares\n",
    "from numpy.polynomial import Polynomial, polynomial\n",
    "\n",
    "# https://doi.org/10.1063/5.0019847 imports\n",
    "import algorithm.generate_spectrum as gs\n",
    "from algorithm.pixel_operations import choose_pixels, generate_combinations\n",
    "from algorithm.temperature_functions import optimum_temperature\n",
    "from algorithm.kfold import order_selection\n",
    "from scipy.interpolate import splrep, splev, UnivariateSpline\n",
    "\n",
    "# constants\n",
    "h = 6.626e-34 # Planck's constant\n",
    "c = 299792458 # Speed of light\n",
    "k = 1.380649e-23 # Boltzmann constant\n",
    "b = 2.89777e-3 # Wien's displacement law constant"
   ]
  },
  {
   "cell_type": "markdown",
   "id": "9fffdec6-01fb-43d0-87e2-fb39d6b6e5be",
   "metadata": {},
   "source": [
    "# Opening Data"
   ]
  },
  {
   "cell_type": "code",
   "execution_count": 2,
   "id": "735cae28-6bb5-431e-9331-f200e209eb1a",
   "metadata": {},
   "outputs": [
    {
     "name": "stdout",
     "output_type": "stream",
     "text": [
      "<class 'spectral.io.bilfile.BilFile'>\n",
      "\n",
      "\tData Source:   './graphite-rod/raw.raw'\n",
      "\t# Rows:            719\n",
      "\t# Samples:        1600\n",
      "\t# Bands:           371\n",
      "\tInterleave:        BIL\n",
      "\tQuantization:  16 bits\n",
      "\tData format:    uint16\n"
     ]
    }
   ],
   "source": [
    "# opening the raw data from its ENVI file and header\n",
    "dark_ref = envi.open('graphite-rod/darkReference.hdr', 'graphite-rod/darkReference.raw')\n",
    "white_ref = envi.open('graphite-rod/whiteReference.hdr', 'graphite-rod/whiteReference.raw')\n",
    "data_ref = envi.open('graphite-rod/raw.hdr', 'graphite-rod/raw.raw')\n",
    "print(type(data_ref))\n",
    "print()\n",
    "print(data_ref)"
   ]
  },
  {
   "cell_type": "code",
   "execution_count": 3,
   "id": "a32bd687-7e5c-4f89-b9dc-885ae6d17c17",
   "metadata": {
    "scrolled": true
   },
   "outputs": [
    {
     "name": "stdout",
     "output_type": "stream",
     "text": [
      "<class 'numpy.ndarray'>\n",
      "Tensor dimensions = (719, 1600, 371)\n",
      "\n",
      "[[[ 374.  397.  491. ... 2258. 2244. 2355.]\n",
      "  [ 374.  397.  491. ... 2255. 2140. 2115.]\n",
      "  [ 409.  442.  494. ... 2282. 2251. 2087.]\n",
      "  ...\n",
      "  [ 121.   92.  113. ...  317.  265.  260.]\n",
      "  [ 126.  124.  128. ...  243.  267.  222.]\n",
      "  [ 114.  132.  120. ...  295.  275.  228.]]\n",
      "\n",
      " [[ 386.  447.  513. ... 2391. 2234. 2105.]\n",
      "  [ 386.  447.  513. ... 2321. 2241. 2213.]\n",
      "  [ 441.  473.  475. ... 2293. 2217. 2195.]\n",
      "  ...\n",
      "  [ 125.  127.  116. ...  276.  283.  283.]\n",
      "  [ 126.  153.  125. ...  261.  292.  321.]\n",
      "  [ 110.  133.  129. ...  295.  308.  265.]]\n",
      "\n",
      " [[ 395.  400.  539. ... 2178. 2240. 2222.]\n",
      "  [ 395.  400.  539. ... 2263. 2216. 2242.]\n",
      "  [ 353.  437.  453. ... 2299. 2181. 2180.]\n",
      "  ...\n",
      "  [ 144.  143.  118. ...  296.  317.  288.]\n",
      "  [ 121.   93.  134. ...  310.  271.  243.]\n",
      "  [ 101.  112.  144. ...  246.  288.  328.]]\n",
      "\n",
      " ...\n",
      "\n",
      " [[ 413.  481.  434. ... 2268. 2195. 2300.]\n",
      "  [ 413.  481.  434. ... 2330. 2181. 2283.]\n",
      "  [ 391.  488.  443. ... 2248. 2274. 2173.]\n",
      "  ...\n",
      "  [ 105.   91.  142. ...  266.  296.  235.]\n",
      "  [ 109.  121.  132. ...  284.  266.  274.]\n",
      "  [ 120.  119.  136. ...  268.  272.  271.]]\n",
      "\n",
      " [[ 438.  472.  524. ... 2321. 2225. 2195.]\n",
      "  [ 438.  472.  524. ... 2300. 2186. 2065.]\n",
      "  [ 406.  497.  499. ... 2155. 2145. 2172.]\n",
      "  ...\n",
      "  [ 126.  119.  126. ...  324.  297.  267.]\n",
      "  [ 155.  150.  137. ...  264.  274.  261.]\n",
      "  [ 118.  130.  145. ...  281.  257.  288.]]\n",
      "\n",
      " [[ 441.  414.  510. ... 2231. 2250. 2224.]\n",
      "  [ 441.  414.  510. ... 2283. 2310. 2133.]\n",
      "  [ 433.  441.  482. ... 2091. 2074. 2143.]\n",
      "  ...\n",
      "  [ 114.   94.  119. ...  301.  294.  296.]\n",
      "  [ 140.  124.  126. ...  303.  292.  307.]\n",
      "  [ 130.  110.  121. ...  335.  218.  259.]]]\n"
     ]
    }
   ],
   "source": [
    "# converting the data to a tensor as a NumPy array\n",
    "white_tensor = np.array(white_ref.load())\n",
    "dark_tensor = np.array(dark_ref.load())\n",
    "data_tensor = np.array(data_ref.load())\n",
    "print(type(data_tensor))\n",
    "shape = data_tensor.shape\n",
    "print(f\"Tensor dimensions = {shape}\")\n",
    "print()\n",
    "print(data_tensor)"
   ]
  },
  {
   "cell_type": "code",
   "execution_count": 4,
   "id": "c1943c5a-c12c-44f1-9a9e-4a8f0697cb09",
   "metadata": {},
   "outputs": [
    {
     "name": "stderr",
     "output_type": "stream",
     "text": [
      "/Users/namanparikh/opt/anaconda3/envs/hyperspectral/lib/python3.9/site-packages/spectral/graphics/spypylab.py:796: UserWarning: Failed to create RectangleSelector object. Interactive pixel class labeling will be unavailable.\n",
      "  warnings.warn(msg)\n"
     ]
    },
    {
     "data": {
      "text/plain": [
       "<Figure size 640x480 with 0 Axes>"
      ]
     },
     "metadata": {},
     "output_type": "display_data"
    },
    {
     "data": {
      "image/png": "[encoded data removed]",
      "text/plain": [
       "<Figure size 640x480 with 1 Axes>"
      ]
     },
     "metadata": {},
     "output_type": "display_data"
    }
   ],
   "source": [
    "# correcting tensor with references and displaying tensor as an image\n",
    "corrected_data = np.divide(\n",
    "    np.subtract(data_tensor, dark_tensor),\n",
    "    np.subtract(white_tensor, dark_tensor))\n",
    "plt.figure()\n",
    "imshow(corrected_data, (100,100,100))\n",
    "plt.xticks([])\n",
    "plt.yticks([])\n",
    "plt.show()"
   ]
  },
  {
   "cell_type": "code",
   "execution_count": 5,
   "id": "4a795e75-5191-43f6-b485-4eaf16765487",
   "metadata": {},
   "outputs": [
    {
     "data": {
      "text/plain": [
       "<Figure size 640x480 with 0 Axes>"
      ]
     },
     "metadata": {},
     "output_type": "display_data"
    },
    {
     "data": {
      "image/png": "[encoded data removed]",
      "text/plain": [
       "<Figure size 640x480 with 1 Axes>"
      ]
     },
     "metadata": {},
     "output_type": "display_data"
    }
   ],
   "source": [
    "plt.figure()\n",
    "imshow(corrected_data[:,550:575,:], (100,100,100))\n",
    "plt.xticks([])\n",
    "plt.yticks([])\n",
    "plt.show()"
   ]
  },
  {
   "cell_type": "markdown",
   "id": "081e1758-d0a0-420f-9bd8-21c41f68316d",
   "metadata": {},
   "source": [
    "## Parsing HDR for Bands"
   ]
  },
  {
   "cell_type": "code",
   "execution_count": 6,
   "id": "f3ea01d3-27fd-4349-a67d-1982cb4f04fd",
   "metadata": {},
   "outputs": [
    {
     "name": "stdout",
     "output_type": "stream",
     "text": [
      "ENVI\n",
      "description = {[HEADWALL Hyperspec III]}\n",
      "samples = 1600\n",
      "lines = 1562\n",
      "bands = 371\n",
      "header offset = 0\n",
      "file type = ENVI Standard\n",
      "data type = 12\n",
      "interleave = bil\n",
      "sensor type = Unknown\n",
      "default bands = {191,86,50}\n",
      "byte order = 0\n",
      "wavelength units = nm\n",
      "wavelength = {\n",
      "399.471\n",
      ",401.098\n",
      ",402.725\n",
      ",404.351\n",
      ",405.978\n",
      ",407.605\n",
      ",409.232\n",
      ",410.858\n",
      ",412.485\n",
      ",414.112\n",
      ",415.738\n",
      ",417.365\n",
      ",418.992\n",
      ",420.619\n",
      ",422.245\n",
      ",423.872\n",
      ",425.499\n",
      ",427.126\n",
      ",428.752\n",
      ",430.379\n",
      ",432.006\n",
      ",433.633\n",
      ",435.259\n",
      ",436.886\n",
      ",438.513\n",
      ",440.14\n",
      ",441.766\n",
      ",443.393\n",
      ",445.02\n",
      ",446.647\n",
      ",448.273\n",
      ",449.9\n",
      ",451.527\n",
      ",453.153\n",
      ",454.78\n",
      ",456.407\n",
      ",458.034\n",
      ",459.66\n",
      ",461.287\n",
      ",462.914\n",
      ",464.541\n",
      ",466.167\n",
      ",467.794\n",
      ",469.421\n",
      ",471.048\n",
      ",472.674\n",
      ",474.301\n",
      ",475.928\n",
      ",477.555\n",
      ",479.181\n",
      ",480.808\n",
      ",482.435\n",
      ",484.062\n",
      ",485.688\n",
      ",487.315\n",
      ",488.942\n",
      ",490.569\n",
      ",492.195\n",
      ",493.822\n",
      ",495.449\n",
      ",497.075\n",
      ",498.702\n",
      ",500.329\n",
      ",501.956\n",
      ",503.582\n",
      ",505.209\n",
      ",506.836\n",
      ",508.463\n",
      ",510.089\n",
      ",511.716\n",
      ",513.343\n",
      ",514.97\n",
      ",516.596\n",
      ",518.223\n",
      ",519.85\n",
      ",521.477\n",
      ",523.103\n",
      ",524.73\n",
      ",526.357\n",
      ",527.984\n",
      ",529.61\n",
      ",531.237\n",
      ",532.864\n",
      ",534.491\n",
      ",536.117\n",
      ",537.744\n",
      ",539.371\n",
      ",540.997\n",
      ",542.624\n",
      ",544.251\n",
      ",545.878\n",
      ",547.504\n",
      ",549.131\n",
      ",550.758\n",
      ",552.385\n",
      ",554.011\n",
      ",555.638\n",
      ",557.265\n",
      ",558.892\n",
      ",560.518\n",
      ",562.145\n",
      ",563.772\n",
      ",565.399\n",
      ",567.025\n",
      ",568.652\n",
      ",570.279\n",
      ",571.906\n",
      ",573.532\n",
      ",575.159\n",
      ",576.786\n",
      ",578.412\n",
      ",580.039\n",
      ",581.666\n",
      ",583.293\n",
      ",584.919\n",
      ",586.546\n",
      ",588.173\n",
      ",589.8\n",
      ",591.426\n",
      ",593.053\n",
      ",594.68\n",
      ",596.307\n",
      ",597.933\n",
      ",599.56\n",
      ",601.187\n",
      ",602.814\n",
      ",604.44\n",
      ",606.067\n",
      ",607.694\n",
      ",609.321\n",
      ",610.947\n",
      ",612.574\n",
      ",614.201\n",
      ",615.828\n",
      ",617.454\n",
      ",619.081\n",
      ",620.708\n",
      ",622.334\n",
      ",623.961\n",
      ",625.588\n",
      ",627.215\n",
      ",628.841\n",
      ",630.468\n",
      ",632.095\n",
      ",633.722\n",
      ",635.348\n",
      ",636.975\n",
      ",638.602\n",
      ",640.229\n",
      ",641.855\n",
      ",643.482\n",
      ",645.109\n",
      ",646.736\n",
      ",648.362\n",
      ",649.989\n",
      ",651.616\n",
      ",653.243\n",
      ",654.869\n",
      ",656.496\n",
      ",658.123\n",
      ",659.75\n",
      ",661.376\n",
      ",663.003\n",
      ",664.63\n",
      ",666.256\n",
      ",667.883\n",
      ",669.51\n",
      ",671.137\n",
      ",672.763\n",
      ",674.39\n",
      ",676.017\n",
      ",677.644\n",
      ",679.27\n",
      ",680.897\n",
      ",682.524\n",
      ",684.151\n",
      ",685.777\n",
      ",687.404\n",
      ",689.031\n",
      ",690.658\n",
      ",692.284\n",
      ",693.911\n",
      ",695.538\n",
      ",697.165\n",
      ",698.791\n",
      ",700.418\n",
      ",702.045\n",
      ",703.672\n",
      ",705.298\n",
      ",706.925\n",
      ",708.552\n",
      ",710.178\n",
      ",711.805\n",
      ",713.432\n",
      ",715.059\n",
      ",716.685\n",
      ",718.312\n",
      ",719.939\n",
      ",721.566\n",
      ",723.192\n",
      ",724.819\n",
      ",726.446\n",
      ",728.073\n",
      ",729.699\n",
      ",731.326\n",
      ",732.953\n",
      ",734.58\n",
      ",736.206\n",
      ",737.833\n",
      ",739.46\n",
      ",741.087\n",
      ",742.713\n",
      ",744.34\n",
      ",745.967\n",
      ",747.593\n",
      ",749.22\n",
      ",750.847\n",
      ",752.474\n",
      ",754.1\n",
      ",755.727\n",
      ",757.354\n",
      ",758.981\n",
      ",760.607\n",
      ",762.234\n",
      ",763.861\n",
      ",765.488\n",
      ",767.114\n",
      ",768.741\n",
      ",770.368\n",
      ",771.995\n",
      ",773.621\n",
      ",775.248\n",
      ",776.875\n",
      ",778.502\n",
      ",780.128\n",
      ",781.755\n",
      ",783.382\n",
      ",785.009\n",
      ",786.635\n",
      ",788.262\n",
      ",789.889\n",
      ",791.515\n",
      ",793.142\n",
      ",794.769\n",
      ",796.396\n",
      ",798.022\n",
      ",799.649\n",
      ",801.276\n",
      ",802.903\n",
      ",804.529\n",
      ",806.156\n",
      ",807.783\n",
      ",809.41\n",
      ",811.036\n",
      ",812.663\n",
      ",814.29\n",
      ",815.917\n",
      ",817.543\n",
      ",819.17\n",
      ",820.797\n",
      ",822.424\n",
      ",824.05\n",
      ",825.677\n",
      ",827.304\n",
      ",828.931\n",
      ",830.557\n",
      ",832.184\n",
      ",833.811\n",
      ",835.437\n",
      ",837.064\n",
      ",838.691\n",
      ",840.318\n",
      ",841.944\n",
      ",843.571\n",
      ",845.198\n",
      ",846.825\n",
      ",848.451\n",
      ",850.078\n",
      ",851.705\n",
      ",853.332\n",
      ",854.958\n",
      ",856.585\n",
      ",858.212\n",
      ",859.839\n",
      ",861.465\n",
      ",863.092\n",
      ",864.719\n",
      ",866.346\n",
      ",867.972\n",
      ",869.599\n",
      ",871.226\n",
      ",872.852\n",
      ",874.479\n",
      ",876.106\n",
      ",877.733\n",
      ",879.359\n",
      ",880.986\n",
      ",882.613\n",
      ",884.24\n",
      ",885.866\n",
      ",887.493\n",
      ",889.12\n",
      ",890.747\n",
      ",892.373\n",
      ",894\n",
      ",895.627\n",
      ",897.254\n",
      ",898.88\n",
      ",900.507\n",
      ",902.134\n",
      ",903.761\n",
      ",905.387\n",
      ",907.014\n",
      ",908.641\n",
      ",910.268\n",
      ",911.894\n",
      ",913.521\n",
      ",915.148\n",
      ",916.774\n",
      ",918.401\n",
      ",920.028\n",
      ",921.655\n",
      ",923.281\n",
      ",924.908\n",
      ",926.535\n",
      ",928.162\n",
      ",929.788\n",
      ",931.415\n",
      ",933.042\n",
      ",934.669\n",
      ",936.295\n",
      ",937.922\n",
      ",939.549\n",
      ",941.176\n",
      ",942.802\n",
      ",944.429\n",
      ",946.056\n",
      ",947.683\n",
      ",949.309\n",
      ",950.936\n",
      ",952.563\n",
      ",954.19\n",
      ",955.816\n",
      ",957.443\n",
      ",959.07\n",
      ",960.696\n",
      ",962.323\n",
      ",963.95\n",
      ",965.577\n",
      ",967.203\n",
      ",968.83\n",
      ",970.457\n",
      ",972.084\n",
      ",973.71\n",
      ",975.337\n",
      ",976.964\n",
      ",978.591\n",
      ",980.217\n",
      ",981.844\n",
      ",983.471\n",
      ",985.098\n",
      ",986.724\n",
      ",988.351\n",
      ",989.978\n",
      ",991.605\n",
      ",993.231\n",
      ",994.858\n",
      ",996.485\n",
      ",998.112\n",
      ",999.738\n",
      ",1001.36\n",
      "}\n",
      ";AOI height = 380\n",
      ";AOI left = 480\n",
      ";AOI top = 890\n",
      ";AOI width = 1600\n",
      ";Array Pixel Pitch (um) = 6.5\n",
      ";AverageDispersion = 1.62674032277677\n",
      ";Col binning = 1\n",
      ";FrameIndex = frameIndex.txt\n",
      ";Lens EFL (mm) = 24\n",
      ";Lens folder = 24mm\n",
      ";Nuc folder = C:/Headwall/sensorConfig/uVS-300/24mm/nuc\n",
      ";POST AOI height = 371\n",
      ";POST AOI left = 0\n",
      ";POST AOI top = 9\n",
      ";POST AOI width = 1600\n",
      ";POST Col binning = 1\n",
      ";POST Row binning = 1\n",
      ";Pixel0 = -1062.96848583784\n",
      ";Row binning = 1\n",
      ";Serial Number = uVS-300\n",
      ";hsiii_version = Hyperspec v3.1.5.1\n",
      "\n"
     ]
    }
   ],
   "source": [
    "# reading hdr file\n",
    "file = open(\"raw.hdr\", 'r')\n",
    "text = file.read()\n",
    "print(text)"
   ]
  },
  {
   "cell_type": "code",
   "execution_count": 7,
   "id": "b8d95bc5-517a-49c2-b27b-555f4ac17950",
   "metadata": {},
   "outputs": [
    {
     "name": "stdout",
     "output_type": "stream",
     "text": [
      "Units = nm\n",
      "Number wavelengths = 371\n",
      "Wavelengths: [ 399.471  401.098  402.725  404.351  405.978  407.605  409.232  410.858\n",
      "  412.485  414.112  415.738  417.365  418.992  420.619  422.245  423.872\n",
      "  425.499  427.126  428.752  430.379  432.006  433.633  435.259  436.886\n",
      "  438.513  440.14   441.766  443.393  445.02   446.647  448.273  449.9\n",
      "  451.527  453.153  454.78   456.407  458.034  459.66   461.287  462.914\n",
      "  464.541  466.167  467.794  469.421  471.048  472.674  474.301  475.928\n",
      "  477.555  479.181  480.808  482.435  484.062  485.688  487.315  488.942\n",
      "  490.569  492.195  493.822  495.449  497.075  498.702  500.329  501.956\n",
      "  503.582  505.209  506.836  508.463  510.089  511.716  513.343  514.97\n",
      "  516.596  518.223  519.85   521.477  523.103  524.73   526.357  527.984\n",
      "  529.61   531.237  532.864  534.491  536.117  537.744  539.371  540.997\n",
      "  542.624  544.251  545.878  547.504  549.131  550.758  552.385  554.011\n",
      "  555.638  557.265  558.892  560.518  562.145  563.772  565.399  567.025\n",
      "  568.652  570.279  571.906  573.532  575.159  576.786  578.412  580.039\n",
      "  581.666  583.293  584.919  586.546  588.173  589.8    591.426  593.053\n",
      "  594.68   596.307  597.933  599.56   601.187  602.814  604.44   606.067\n",
      "  607.694  609.321  610.947  612.574  614.201  615.828  617.454  619.081\n",
      "  620.708  622.334  623.961  625.588  627.215  628.841  630.468  632.095\n",
      "  633.722  635.348  636.975  638.602  640.229  641.855  643.482  645.109\n",
      "  646.736  648.362  649.989  651.616  653.243  654.869  656.496  658.123\n",
      "  659.75   661.376  663.003  664.63   666.256  667.883  669.51   671.137\n",
      "  672.763  674.39   676.017  677.644  679.27   680.897  682.524  684.151\n",
      "  685.777  687.404  689.031  690.658  692.284  693.911  695.538  697.165\n",
      "  698.791  700.418  702.045  703.672  705.298  706.925  708.552  710.178\n",
      "  711.805  713.432  715.059  716.685  718.312  719.939  721.566  723.192\n",
      "  724.819  726.446  728.073  729.699  731.326  732.953  734.58   736.206\n",
      "  737.833  739.46   741.087  742.713  744.34   745.967  747.593  749.22\n",
      "  750.847  752.474  754.1    755.727  757.354  758.981  760.607  762.234\n",
      "  763.861  765.488  767.114  768.741  770.368  771.995  773.621  775.248\n",
      "  776.875  778.502  780.128  781.755  783.382  785.009  786.635  788.262\n",
      "  789.889  791.515  793.142  794.769  796.396  798.022  799.649  801.276\n",
      "  802.903  804.529  806.156  807.783  809.41   811.036  812.663  814.29\n",
      "  815.917  817.543  819.17   820.797  822.424  824.05   825.677  827.304\n",
      "  828.931  830.557  832.184  833.811  835.437  837.064  838.691  840.318\n",
      "  841.944  843.571  845.198  846.825  848.451  850.078  851.705  853.332\n",
      "  854.958  856.585  858.212  859.839  861.465  863.092  864.719  866.346\n",
      "  867.972  869.599  871.226  872.852  874.479  876.106  877.733  879.359\n",
      "  880.986  882.613  884.24   885.866  887.493  889.12   890.747  892.373\n",
      "  894.     895.627  897.254  898.88   900.507  902.134  903.761  905.387\n",
      "  907.014  908.641  910.268  911.894  913.521  915.148  916.774  918.401\n",
      "  920.028  921.655  923.281  924.908  926.535  928.162  929.788  931.415\n",
      "  933.042  934.669  936.295  937.922  939.549  941.176  942.802  944.429\n",
      "  946.056  947.683  949.309  950.936  952.563  954.19   955.816  957.443\n",
      "  959.07   960.696  962.323  963.95   965.577  967.203  968.83   970.457\n",
      "  972.084  973.71   975.337  976.964  978.591  980.217  981.844  983.471\n",
      "  985.098  986.724  988.351  989.978  991.605  993.231  994.858  996.485\n",
      "  998.112  999.738 1001.36 ]\n"
     ]
    }
   ],
   "source": [
    "# parsing for wavelength values and units\n",
    "\n",
    "start_id = \"\\nwavelength = {\\n\"\n",
    "start_index = text.find(start_id) + len(start_id)\n",
    "end_id = \"\\n}\\n;AOI height\"\n",
    "end_index = text.find(end_id)\n",
    "wavelengths = text[start_index:end_index]\n",
    "wavelengths_arr = np.array(wavelengths.split(\"\\n,\"), dtype=\"float32\")\n",
    "\n",
    "units_id = \"wavelength units = \"\n",
    "units_index = text.find(units_id) + len(units_id)\n",
    "units = text[units_index:text.find(start_id)]\n",
    "print(f\"Units = {units}\")\n",
    "print(f\"Number wavelengths = {len(wavelengths_arr)}\")\n",
    "print(f\"Wavelengths: {wavelengths_arr}\")"
   ]
  },
  {
   "cell_type": "markdown",
   "id": "8483b21c-4246-44d9-9ffc-334dad207124",
   "metadata": {},
   "source": [
    "## Loading one row"
   ]
  },
  {
   "cell_type": "code",
   "execution_count": 8,
   "id": "b3109b18-c259-4fce-af58-a017d9ec4f20",
   "metadata": {},
   "outputs": [
    {
     "name": "stdout",
     "output_type": "stream",
     "text": [
      "(719, 1600, 371)\n",
      "(719, 371)\n",
      "(371,)\n"
     ]
    }
   ],
   "source": [
    "print(corrected_data.shape)\n",
    "print(corrected_data[:,0,:].shape)\n",
    "print(corrected_data[:,0,:][0].shape)"
   ]
  },
  {
   "cell_type": "code",
   "execution_count": 9,
   "id": "c0488730-6cbe-4110-87c2-1b4a30d2e916",
   "metadata": {},
   "outputs": [
    {
     "data": {
      "image/png": "[encoded data removed]",
      "text/plain": [
       "<Figure size 500x500 with 1 Axes>"
      ]
     },
     "metadata": {},
     "output_type": "display_data"
    }
   ],
   "source": [
    "plt.figure(figsize=(5,5))\n",
    "plt.scatter(wavelengths_arr, corrected_data[:,555,:][0], s=7)\n",
    "plt.scatter(wavelengths_arr, corrected_data[:,555,:][int(len(corrected_data[:,555,:][0]) * (1/3))], s=7)\n",
    "plt.scatter(wavelengths_arr, corrected_data[:,555,:][int(len(corrected_data[:,555,:][0]) * (2/3))], s=7)\n",
    "plt.scatter(wavelengths_arr, corrected_data[:,555,:][-1], s=7)\n",
    "plt.title(\"Spectra for Position 555\", fontsize=17)\n",
    "plt.xlabel(\"Wavelength [nm]\", fontsize=12)\n",
    "plt.xticks(fontsize=10)\n",
    "plt.ylabel(\"Irradiance [arb. units]\", fontsize=12)\n",
    "# plt.yticks([])\n",
    "plt.legend([\"Initial\", \"(1/3) t\", \"(2/3) t\", \"Final\"], fontsize=10)\n",
    "plt.show()"
   ]
  },
  {
   "cell_type": "markdown",
   "id": "fdeab595-12b7-49e4-8a80-ec4b7eeadd93",
   "metadata": {},
   "source": [
    "The infrared radiation decreases, indicating the rod cooling. Unfortunately, this does not really resemble a blackbody spectrum, so pyrometry may be more difficult."
   ]
  },
  {
   "cell_type": "markdown",
   "id": "343be333-134c-445d-b3c7-4577c7290dd6",
   "metadata": {},
   "source": [
    "### Blackbody at 1000 C"
   ]
  },
  {
   "cell_type": "code",
   "execution_count": 10,
   "id": "628cc3c0-4951-4665-be67-23671c22e13f",
   "metadata": {},
   "outputs": [
    {
     "data": {
      "text/plain": [
       "<matplotlib.collections.PathCollection at 0x7f77c2031e80>"
      ]
     },
     "execution_count": 10,
     "metadata": {},
     "output_type": "execute_result"
    },
    {
     "data": {
      "image/png": "[encoded data removed]",
      "text/plain": [
       "<Figure size 640x480 with 1 Axes>"
      ]
     },
     "metadata": {},
     "output_type": "display_data"
    }
   ],
   "source": [
    "# l: wavelength, T: temperature, e: emissivity\n",
    "def blackbody(l, T, e):\n",
    "    return e * ((2 * h * c**2) / l**5) * (1 / (np.exp((h * c) / (l * k * T)) - 1))\n",
    "\n",
    "x = np.linspace(400e-9, 1000e-9, num=300)\n",
    "y = np.array([blackbody(i, 1000, 1) for i in x])\n",
    "plt.scatter(x*1e9, y, s=5)"
   ]
  },
  {
   "cell_type": "markdown",
   "id": "9687c24d-7806-46d7-a44d-0ee3d222911a",
   "metadata": {},
   "source": [
    "# Pyrometry"
   ]
  },
  {
   "cell_type": "markdown",
   "id": "296756ce-dcf4-499b-aedf-5445bf376b2f",
   "metadata": {},
   "source": [
    "## Curve fitting"
   ]
  },
  {
   "cell_type": "code",
   "execution_count": 11,
   "id": "5af7f04a-c916-42d0-af22-ff5e476e43de",
   "metadata": {},
   "outputs": [
    {
     "name": "stdout",
     "output_type": "stream",
     "text": [
      "Optimal parameters: [ 4.51658340e-13 -1.28876717e-06  1.00406370e+00  3.63508309e+03]\n",
      "Final Cost: 0.008170746037863578\n",
      "Termination Status: 2\n"
     ]
    }
   ],
   "source": [
    "wl = wavelengths_arr[50:]\n",
    "data = corrected_data[:,555,:][0][50:]\n",
    "\n",
    "# params = [a0, a1, a2, T]\n",
    "def intensity(params, l):\n",
    "    e = params[0] + (params[1] * l) + (params[2] * l**2)\n",
    "    return blackbody(l, params[3], e)\n",
    "        \n",
    "def residuals(params):\n",
    "    result = []\n",
    "    for i in range(len(wl)):\n",
    "        Si = intensity(params, wavelengths_arr[i] * 1e-9)\n",
    "        St = data[i]\n",
    "        result.append(Si - St)\n",
    "    return np.array(result)\n",
    "    \n",
    "params0 = np.array([1, 1, 1, 500])\n",
    "result = least_squares(residuals, params0)\n",
    "print(f\"Optimal parameters: {result.x}\\nFinal Cost: {result.cost}\\nTermination Status: {result.status}\")"
   ]
  },
  {
   "cell_type": "code",
   "execution_count": 12,
   "id": "5f4fc8ee-48e6-40bf-a250-4943b8de7f9d",
   "metadata": {},
   "outputs": [
    {
     "data": {
      "image/png": "[encoded data removed]",
      "text/plain": [
       "<Figure size 500x500 with 1 Axes>"
      ]
     },
     "metadata": {},
     "output_type": "display_data"
    }
   ],
   "source": [
    "yfit = []\n",
    "for l in wl:\n",
    "    yfit.append(intensity(result.x, l))\n",
    "    \n",
    "plt.figure(figsize=(5,5))\n",
    "plt.scatter(wl, data, s=5)\n",
    "plt.scatter(wl, yfit, s=5)\n",
    "plt.title(\"Non-linear least squares regression\", fontsize=15)\n",
    "plt.xlabel(\"Wavelength [nm]\", fontsize=12)\n",
    "plt.xticks(fontsize=10)\n",
    "plt.ylabel(\"Intensity [arb. units]\", fontsize=12)\n",
    "plt.yticks([])\n",
    "plt.legend([\"Actual\", \"Fitted\"], fontsize=10)\n",
    "plt.show()"
   ]
  },
  {
   "cell_type": "markdown",
   "id": "540f4295-d0de-4dd5-b0c9-8353b76a078d",
   "metadata": {},
   "source": [
    "## KFold"
   ]
  },
  {
   "cell_type": "code",
   "execution_count": 17,
   "id": "8595794a-0baa-45b2-a88d-77b014455a4d",
   "metadata": {},
   "outputs": [],
   "source": [
    "def kfold(wl_vec, I):\n",
    "    # Black and gray body\n",
    "    bb_eps = lambda wl,T: 1.0 * np.ones(len(wl))\n",
    "    # gr_eps = lambda wl,T: 0.5 * np.ones(len(wl))\n",
    "    \n",
    "    # Parameters\n",
    "    Nwl = len(wl_vec)\n",
    "    \n",
    "    pix_vec = np.linspace(0,len(wl_vec)-1,len(wl_vec))\n",
    "    pix_vec = np.array(pix_vec,dtype=np.int64)\n",
    "        \n",
    "    # I_calc = gs.wien_approximation(wl_vec,T,eps2)\n",
    "    I_calc = I\n",
    "    noisy_data = np.copy(I_calc)\n",
    "    \n",
    "    # Take the log of the data\n",
    "    \n",
    "    log_noisy = np.log(noisy_data)\n",
    "    \n",
    "    wl_vec_sub = np.copy(wl_vec)\n",
    "    log_med = np.copy(log_noisy)\n",
    "    pix_vec_sub = np.copy(pix_vec)\n",
    "    \n",
    "    ### Fit a spline to access data easily\n",
    "    data_spl = splrep(wl_vec_sub,log_med)\n",
    "    \n",
    "    pix_sub_vec = np.copy(pix_vec_sub)\n",
    "    filtered_data = np.copy(log_med)\n",
    "    \n",
    "    \n",
    "    #I_calc,noisy_data,filtered_data,data_spl,pix_sub_vec = gs.generate_data(\n",
    "    #        wl_vec,T,pix_vec,f_eps,el)\n",
    "    wl_sub_vec = wl_vec[pix_sub_vec]\n",
    "    \n",
    "    ### Choose the order of the emissivity w/ k-fold\n",
    "    poly_order = order_selection(data_spl,\n",
    "                           pix_sub_vec,wl_vec,\n",
    "                           bb_eps)\n",
    "    \n",
    "    ### Calculate the temperature using the whole dataset\n",
    "    # Pixel operations\n",
    "    chosen_pix = choose_pixels(pix_sub_vec,bin_method='average')\n",
    "    cmb_pix = generate_combinations(chosen_pix,pix_sub_vec)\n",
    "    \n",
    "    # Compute the temperature\n",
    "    Tave, Tstd, Tmetric, sol = optimum_temperature(data_spl,cmb_pix,\n",
    "                                                pix_sub_vec,wl_vec,\n",
    "                                                poly_order)\n",
    "    \n",
    "    return (Tave, Tstd)"
   ]
  },
  {
   "cell_type": "code",
   "execution_count": 19,
   "id": "deeabf61-3b84-42ab-a8fb-9cddef56aa0a",
   "metadata": {},
   "outputs": [
    {
     "name": "stdout",
     "output_type": "stream",
     "text": [
      "(3530.952226120826, 1107.4975148336953)\n"
     ]
    }
   ],
   "source": [
    "print(kfold(wavelengths_arr, corrected_data[:,555,:][0]))"
   ]
  },
  {
   "cell_type": "code",
   "execution_count": 20,
   "id": "f0956bfa-23fb-41dd-b26b-aa7433126066",
   "metadata": {},
   "outputs": [
    {
     "name": "stdout",
     "output_type": "stream",
     "text": [
      "(3735.855934391062, 456.8040250388294)\n"
     ]
    }
   ],
   "source": [
    "print(kfold(wavelengths_arr[50:], corrected_data[:,55,:][0][50:]))"
   ]
  },
  {
   "cell_type": "code",
   "execution_count": 21,
   "id": "e1a5c99b-4cc3-420e-b57a-8f1aaf360829",
   "metadata": {},
   "outputs": [
    {
     "name": "stdout",
     "output_type": "stream",
     "text": [
      "(4471.085989044462, 1437.8124621231907)\n"
     ]
    }
   ],
   "source": [
    "print(kfold(wavelengths_arr, corrected_data[:,555,:][-1]))"
   ]
  },
  {
   "cell_type": "code",
   "execution_count": 22,
   "id": "e07a2d0c-96f7-40ea-897c-60ba9fec10da",
   "metadata": {},
   "outputs": [
    {
     "name": "stdout",
     "output_type": "stream",
     "text": [
      "(3847.8996552953813, 812.288306707042)\n"
     ]
    }
   ],
   "source": [
    "print(kfold(wavelengths_arr[50:], corrected_data[:,555,:][-1][50:]))"
   ]
  }
 ],
 "metadata": {
  "kernelspec": {
   "display_name": "Python 3 (ipykernel)",
   "language": "python",
   "name": "python3"
  },
  "language_info": {
   "codemirror_mode": {
    "name": "ipython",
    "version": 3
   },
   "file_extension": ".py",
   "mimetype": "text/x-python",
   "name": "python",
   "nbconvert_exporter": "python",
   "pygments_lexer": "ipython3",
   "version": "3.9.12"
  }
 },
 "nbformat": 4,
 "nbformat_minor": 5
}
