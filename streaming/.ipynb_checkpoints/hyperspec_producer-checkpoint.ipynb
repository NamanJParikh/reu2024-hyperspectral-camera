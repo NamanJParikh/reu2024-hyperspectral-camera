{
 "cells": [
  {
   "cell_type": "markdown",
   "id": "38d365cd-bd03-49e6-be5c-73ef46373e34",
   "metadata": {},
   "source": [
    "# Initial Producer\n",
    "This is the initial producer in the streaming pipeline. This should run on the computer dedicated to the hyperspectral camera and stream raw data out to the PARADIM broker when it is captured. The code is structured off of notebooks at github.com/openmsi/openmsistream_short_course."
   ]
  },
  {
   "cell_type": "markdown",
   "id": "0dbf636f-ecd3-40c5-b176-c12424ee9d3a",
   "metadata": {},
   "source": [
    "## Config"
   ]
  },
  {
   "cell_type": "code",
   "execution_count": 1,
   "id": "0f736f37-4310-4de7-9e59-3f708e54bfdd",
   "metadata": {},
   "outputs": [],
   "source": [
    "# imports\n",
    "import pathlib, logging, importlib\n",
    "from threading import Thread\n",
    "from openmsitoolbox.logging import OpenMSILogger\n",
    "from openmsistream import UploadDataFile, DataFileUploadDirectory"
   ]
  },
  {
   "cell_type": "code",
   "execution_count": 2,
   "id": "01cd4359-5531-4138-9fff-515916fef4e1",
   "metadata": {},
   "outputs": [
    {
     "data": {
      "text/plain": [
       "<module 'logging' from '/Users/namanparikh/opt/anaconda3/envs/openmsi/lib/python3.9/logging/__init__.py'>"
      ]
     },
     "execution_count": 2,
     "metadata": {},
     "output_type": "execute_result"
    }
   ],
   "source": [
    "# Configure a logger (only needed when running in a Jupyter notebook like this)\n",
    "logger = OpenMSILogger(\"LocalProducer\", filelevel=None)\n",
    "importlib.reload(logging)"
   ]
  },
  {
   "cell_type": "code",
   "execution_count": 14,
   "id": "b7181fd8-1bab-4ea3-bf9b-33b6e2375f44",
   "metadata": {},
   "outputs": [],
   "source": [
    "# The name of the topic to work with\n",
    "TOPIC_NAME = \"tutorial_data\"\n",
    "\n",
    "# Paths to the config file and the directory holding the test files\n",
    "repo_root_dir = pathlib.Path().resolve().parent\n",
    "CONFIG_FILE_PATH = repo_root_dir / \"streaming\" / \"config_files\" / \"confluent_cloud_broker.config\"\n",
    "TEST_FILE_DIR = repo_root_dir / \"streaming\" / \"test_folder\" / \"test_data.txt\""
   ]
  },
  {
   "cell_type": "markdown",
   "id": "23bf45d4-f7d3-46aa-a05b-ca74baab0eb4",
   "metadata": {},
   "source": [
    "## Upload Data (to test)\n",
    "can you upload entire files as a msg?"
   ]
  },
  {
   "cell_type": "code",
   "execution_count": 15,
   "id": "b8c0990c-0ebc-4e17-8afd-42dbfa921365",
   "metadata": {},
   "outputs": [
    {
     "data": {
      "text/plain": [
       "PosixPath('/Users/namanparikh/Documents/GitHub/paradim/reu2024-hyperspectral-camera/streaming/config_files/confluent_cloud_broker.config')"
      ]
     },
     "execution_count": 15,
     "metadata": {},
     "output_type": "execute_result"
    }
   ],
   "source": [
    "CONFIG_FILE_PATH"
   ]
  },
  {
   "cell_type": "code",
   "execution_count": 16,
   "id": "4a72b9b1-5f45-4070-abea-c92e0b0546aa",
   "metadata": {},
   "outputs": [
    {
     "data": {
      "text/plain": [
       "PosixPath('/Users/namanparikh/Documents/GitHub/paradim/reu2024-hyperspectral-camera/streaming/test_folder/test_data.txt')"
      ]
     },
     "execution_count": 16,
     "metadata": {},
     "output_type": "execute_result"
    }
   ],
   "source": [
    "TEST_FILE_DIR"
   ]
  },
  {
   "cell_type": "code",
   "execution_count": 18,
   "id": "aa5bf832-82f0-4672-9a77-f12d9802e81d",
   "metadata": {},
   "outputs": [
    {
     "data": {
      "text/plain": [
       "<generator object Path.rglob at 0x7face8432d60>"
      ]
     },
     "execution_count": 18,
     "metadata": {},
     "output_type": "execute_result"
    }
   ],
   "source": [
    "TEST_FOLDER_DIR.rglob(\"*\")"
   ]
  },
  {
   "cell_type": "code",
   "execution_count": 20,
   "id": "9dfde5ec-2080-4e8a-a5e2-04ac01d97647",
   "metadata": {},
   "outputs": [
    {
     "name": "stdout",
     "output_type": "stream",
     "text": [
      "0 /Users/namanparikh/Documents/GitHub/paradim/reu2024-hyperspectral-camera/streaming/test_folder/.DS_Store\n",
      "1 /Users/namanparikh/Documents/GitHub/paradim/reu2024-hyperspectral-camera/streaming/test_folder/test_data.txt\n",
      "2 /Users/namanparikh/Documents/GitHub/paradim/reu2024-hyperspectral-camera/streaming/test_folder/.ipynb_checkpoints\n",
      "3 /Users/namanparikh/Documents/GitHub/paradim/reu2024-hyperspectral-camera/streaming/test_folder/.ipynb_checkpoints/test_data-checkpoint.txt\n"
     ]
    }
   ],
   "source": [
    "for iuf, upload_file_path in enumerate(TEST_FOLDER_DIR.rglob(\"*\")):\n",
    "    print(iuf, upload_file_path)"
   ]
  },
  {
   "cell_type": "code",
   "execution_count": 17,
   "id": "30bda59f-0910-4bd7-b9c5-b0b7a39b5161",
   "metadata": {},
   "outputs": [
    {
     "name": "stderr",
     "output_type": "stream",
     "text": [
      "[LocalProducer 2024-07-17 22:09:26] Uploading /Users/namanparikh/Documents/GitHub/paradim/reu2024-hyperspectral-camera/streaming/test_folder/test_data.txt to tutorial_data in 524288-byte chunks using 2 threads....\n",
      "[LocalProducer 2024-07-17 22:09:26] ERROR: failed during call to Producer.produce! Will log and re-raise Exception.\n",
      "Traceback (most recent call last):\n",
      "  File \"/Users/namanparikh/opt/anaconda3/envs/openmsi/lib/python3.9/site-packages/openmsistream/kafka_wrapper/openmsistream_producer.py\", line 303, in produce_object\n",
      "    key=obj.msg_key,\n",
      "  File \"/Users/namanparikh/opt/anaconda3/envs/openmsi/lib/python3.9/site-packages/openmsistream/data_file_io/entity/data_file_chunk.py\", line 106, in msg_key\n",
      "    key_pp = get_message_prepend(self.subdir_str, self.filename)\n",
      "  File \"/Users/namanparikh/opt/anaconda3/envs/openmsi/lib/python3.9/site-packages/openmsistream/data_file_io/entity/data_file_chunk.py\", line 96, in subdir_str\n",
      "    relpath = self.__filepath.parent.relative_to(self.__rootdir)\n",
      "  File \"/Users/namanparikh/opt/anaconda3/envs/openmsi/lib/python3.9/pathlib.py\", line 939, in relative_to\n",
      "    raise ValueError(\"{!r} is not in the subpath of {!r}\"\n",
      "ValueError: '/Users/namanparikh/Documents/GitHub/paradim/reu2024-hyperspectral-camera/streaming/test_folder' is not in the subpath of '/Users/namanparikh/Documents/GitHub/paradim/reu2024-hyperspectral-camera/streaming/test_folder/test_data.txt' OR one path is relative and the other is absolute.\n",
      "Exception in thread Thread-7:\n",
      "Traceback (most recent call last):\n",
      "  File \"/Users/namanparikh/opt/anaconda3/envs/openmsi/lib/python3.9/threading.py\", line 980, in _bootstrap_inner\n",
      "    self.run()\n",
      "  File \"/Users/namanparikh/opt/anaconda3/envs/openmsi/lib/python3.9/site-packages/ipykernel/ipkernel.py\", line 766, in run_closure\n",
      "    _threading_Thread_run(self)\n",
      "  File \"/Users/namanparikh/opt/anaconda3/envs/openmsi/lib/python3.9/threading.py\", line 917, in run\n",
      "    self._target(*self._args, **self._kwargs)\n",
      "  File \"/Users/namanparikh/opt/anaconda3/envs/openmsi/lib/python3.9/site-packages/openmsistream/kafka_wrapper/openmsistream_producer.py\", line 227, in produce_from_queue_looped\n",
      "    success = self.produce_object(obj, topic_name, **kwargs)\n",
      "  File \"/Users/namanparikh/opt/anaconda3/envs/openmsi/lib/python3.9/site-packages/openmsistream/kafka_wrapper/openmsistream_producer.py\", line 320, in produce_object\n",
      "    self.logger.error(errmsg, exc_info=exc, reraise=True)\n",
      "  File \"/Users/namanparikh/opt/anaconda3/envs/openmsi/lib/python3.9/site-packages/openmsitoolbox/logging/openmsi_logger.py\", line 184, in error\n",
      "    raise kwargs[\"exc_info\"]\n",
      "  File \"/Users/namanparikh/opt/anaconda3/envs/openmsi/lib/python3.9/site-packages/openmsistream/kafka_wrapper/openmsistream_producer.py\", line 303, in produce_object\n",
      "    key=obj.msg_key,\n",
      "  File \"/Users/namanparikh/opt/anaconda3/envs/openmsi/lib/python3.9/site-packages/openmsistream/data_file_io/entity/data_file_chunk.py\", line 106, in msg_key\n",
      "    key_pp = get_message_prepend(self.subdir_str, self.filename)\n",
      "  File \"/Users/namanparikh/opt/anaconda3/envs/openmsi/lib/python3.9/site-packages/openmsistream/data_file_io/entity/data_file_chunk.py\", line 96, in subdir_str\n",
      "    relpath = self.__filepath.parent.relative_to(self.__rootdir)\n",
      "  File \"/Users/namanparikh/opt/anaconda3/envs/openmsi/lib/python3.9/pathlib.py\", line 939, in relative_to\n",
      "    raise ValueError(\"{!r} is not in the subpath of {!r}\"\n",
      "ValueError: '/Users/namanparikh/Documents/GitHub/paradim/reu2024-hyperspectral-camera/streaming/test_folder' is not in the subpath of '/Users/namanparikh/Documents/GitHub/paradim/reu2024-hyperspectral-camera/streaming/test_folder/test_data.txt' OR one path is relative and the other is absolute.\n",
      "[LocalProducer 2024-07-17 22:09:26] Waiting for all enqueued messages to be delivered (this may take a moment)....\n",
      "[LocalProducer 2024-07-17 22:09:26] Done uploading /Users/namanparikh/Documents/GitHub/paradim/reu2024-hyperspectral-camera/streaming/test_folder/test_data.txt\n",
      "[LocalProducer 2024-07-17 22:09:26] Uploading /Users/namanparikh/Documents/GitHub/paradim/reu2024-hyperspectral-camera/streaming/test_folder/.ipynb_checkpoints/test_data-checkpoint.txt to tutorial_data in 524288-byte chunks using 2 threads....\n"
     ]
    },
    {
     "ename": "ValueError",
     "evalue": "'/Users/namanparikh/Documents/GitHub/paradim/reu2024-hyperspectral-camera/streaming/test_folder/.ipynb_checkpoints/test_data-checkpoint.txt' is not in the subpath of '/Users/namanparikh/Documents/GitHub/paradim/reu2024-hyperspectral-camera/streaming/test_folder/test_data.txt' OR one path is relative and the other is absolute.",
     "output_type": "error",
     "traceback": [
      "\u001b[0;31m---------------------------------------------------------------------------\u001b[0m",
      "\u001b[0;31mValueError\u001b[0m                                Traceback (most recent call last)",
      "Cell \u001b[0;32mIn[17], line 8\u001b[0m\n\u001b[1;32m      6\u001b[0m \u001b[38;5;66;03m# Create an UploadDataFile and call the function to upload it to the topic\u001b[39;00m\n\u001b[1;32m      7\u001b[0m upload_file \u001b[38;5;241m=\u001b[39m UploadDataFile(upload_file_path, rootdir\u001b[38;5;241m=\u001b[39mTEST_FILE_DIR, logger\u001b[38;5;241m=\u001b[39mlogger)\n\u001b[0;32m----> 8\u001b[0m \u001b[43mupload_file\u001b[49m\u001b[38;5;241;43m.\u001b[39;49m\u001b[43mupload_whole_file\u001b[49m\u001b[43m(\u001b[49m\u001b[43mCONFIG_FILE_PATH\u001b[49m\u001b[43m,\u001b[49m\u001b[43m \u001b[49m\u001b[43mTOPIC_NAME\u001b[49m\u001b[43m)\u001b[49m\n",
      "File \u001b[0;32m~/opt/anaconda3/envs/openmsi/lib/python3.9/site-packages/openmsistream/data_file_io/entity/upload_data_file.py:86\u001b[0m, in \u001b[0;36mUploadDataFile.upload_whole_file\u001b[0;34m(self, config_path, topic_name, n_threads, chunk_size)\u001b[0m\n\u001b[1;32m     84\u001b[0m \u001b[38;5;66;03m# add all the chunks to the upload queue\u001b[39;00m\n\u001b[1;32m     85\u001b[0m upload_queue \u001b[38;5;241m=\u001b[39m Queue()\n\u001b[0;32m---> 86\u001b[0m \u001b[38;5;28;43mself\u001b[39;49m\u001b[38;5;241;43m.\u001b[39;49m\u001b[43menqueue_chunks_for_upload\u001b[49m\u001b[43m(\u001b[49m\u001b[43mupload_queue\u001b[49m\u001b[43m,\u001b[49m\u001b[43m \u001b[49m\u001b[43mchunk_size\u001b[49m\u001b[38;5;241;43m=\u001b[39;49m\u001b[43mchunk_size\u001b[49m\u001b[43m)\u001b[49m\n\u001b[1;32m     87\u001b[0m \u001b[38;5;66;03m# add \"None\" to the queue for each thread as the final values\u001b[39;00m\n\u001b[1;32m     88\u001b[0m \u001b[38;5;28;01mfor\u001b[39;00m _ \u001b[38;5;129;01min\u001b[39;00m \u001b[38;5;28mrange\u001b[39m(n_threads):\n",
      "File \u001b[0;32m~/opt/anaconda3/envs/openmsi/lib/python3.9/site-packages/openmsistream/data_file_io/entity/upload_data_file.py:206\u001b[0m, in \u001b[0;36mUploadDataFile.enqueue_chunks_for_upload\u001b[0;34m(self, queue, n_threads, chunk_size, queue_full_timeout)\u001b[0m\n\u001b[1;32m    204\u001b[0m     \u001b[38;5;28;01mreturn\u001b[39;00m\n\u001b[1;32m    205\u001b[0m \u001b[38;5;28;01mif\u001b[39;00m \u001b[38;5;28mlen\u001b[39m(\u001b[38;5;28mself\u001b[39m\u001b[38;5;241m.\u001b[39mchunks_to_upload) \u001b[38;5;241m==\u001b[39m \u001b[38;5;241m0\u001b[39m:\n\u001b[0;32m--> 206\u001b[0m     \u001b[38;5;28;43mself\u001b[39;49m\u001b[38;5;241;43m.\u001b[39;49m\u001b[43madd_chunks_to_upload\u001b[49m\u001b[43m(\u001b[49m\u001b[43mchunk_size\u001b[49m\u001b[38;5;241;43m=\u001b[39;49m\u001b[43mchunk_size\u001b[49m\u001b[43m)\u001b[49m\n\u001b[1;32m    207\u001b[0m \u001b[38;5;28;01mif\u001b[39;00m n_threads \u001b[38;5;129;01mis\u001b[39;00m \u001b[38;5;129;01mnot\u001b[39;00m \u001b[38;5;28;01mNone\u001b[39;00m:\n\u001b[1;32m    208\u001b[0m     n_chunks_to_add \u001b[38;5;241m=\u001b[39m \u001b[38;5;241m5\u001b[39m \u001b[38;5;241m*\u001b[39m n_threads\n",
      "File \u001b[0;32m~/opt/anaconda3/envs/openmsi/lib/python3.9/site-packages/openmsistream/data_file_io/entity/upload_data_file.py:149\u001b[0m, in \u001b[0;36mUploadDataFile.add_chunks_to_upload\u001b[0;34m(self, chunks_to_add, chunk_size)\u001b[0m\n\u001b[1;32m    146\u001b[0m \u001b[38;5;28;01mfor\u001b[39;00m ichunk, chunk \u001b[38;5;129;01min\u001b[39;00m \u001b[38;5;28menumerate\u001b[39m(\u001b[38;5;28mself\u001b[39m\u001b[38;5;241m.\u001b[39m__chunk_infos, start\u001b[38;5;241m=\u001b[39m\u001b[38;5;241m1\u001b[39m):\n\u001b[1;32m    147\u001b[0m     \u001b[38;5;28;01mif\u001b[39;00m chunks_to_add \u001b[38;5;129;01mis\u001b[39;00m \u001b[38;5;28;01mNone\u001b[39;00m \u001b[38;5;129;01mor\u001b[39;00m ichunk \u001b[38;5;129;01min\u001b[39;00m chunks_to_add:\n\u001b[1;32m    148\u001b[0m         \u001b[38;5;28mself\u001b[39m\u001b[38;5;241m.\u001b[39mchunks_to_upload\u001b[38;5;241m.\u001b[39mappend(\n\u001b[0;32m--> 149\u001b[0m             \u001b[43mDataFileChunk\u001b[49m\u001b[43m(\u001b[49m\n\u001b[1;32m    150\u001b[0m \u001b[43m                \u001b[49m\u001b[38;5;28;43mself\u001b[39;49m\u001b[38;5;241;43m.\u001b[39;49m\u001b[43mfilepath\u001b[49m\u001b[43m,\u001b[49m\n\u001b[1;32m    151\u001b[0m \u001b[43m                \u001b[49m\u001b[38;5;28;43mself\u001b[39;49m\u001b[38;5;241;43m.\u001b[39;49m\u001b[43mfilename\u001b[49m\u001b[43m,\u001b[49m\n\u001b[1;32m    152\u001b[0m \u001b[43m                \u001b[49m\u001b[38;5;28;43mself\u001b[39;49m\u001b[38;5;241;43m.\u001b[39;49m\u001b[43m__file_hash\u001b[49m\u001b[43m,\u001b[49m\n\u001b[1;32m    153\u001b[0m \u001b[43m                \u001b[49m\u001b[43mchunk\u001b[49m\u001b[43m[\u001b[49m\u001b[38;5;241;43m0\u001b[39;49m\u001b[43m]\u001b[49m\u001b[43m,\u001b[49m\n\u001b[1;32m    154\u001b[0m \u001b[43m                \u001b[49m\u001b[43mchunk\u001b[49m\u001b[43m[\u001b[49m\u001b[38;5;241;43m1\u001b[39;49m\u001b[43m]\u001b[49m\u001b[43m,\u001b[49m\n\u001b[1;32m    155\u001b[0m \u001b[43m                \u001b[49m\u001b[43mchunk\u001b[49m\u001b[43m[\u001b[49m\u001b[38;5;241;43m2\u001b[39;49m\u001b[43m]\u001b[49m\u001b[43m,\u001b[49m\n\u001b[1;32m    156\u001b[0m \u001b[43m                \u001b[49m\u001b[43mchunk\u001b[49m\u001b[43m[\u001b[49m\u001b[38;5;241;43m3\u001b[39;49m\u001b[43m]\u001b[49m\u001b[43m,\u001b[49m\n\u001b[1;32m    157\u001b[0m \u001b[43m                \u001b[49m\u001b[43michunk\u001b[49m\u001b[43m,\u001b[49m\n\u001b[1;32m    158\u001b[0m \u001b[43m                \u001b[49m\u001b[38;5;28;43mself\u001b[39;49m\u001b[38;5;241;43m.\u001b[39;49m\u001b[43m__n_total_chunks\u001b[49m\u001b[43m,\u001b[49m\n\u001b[1;32m    159\u001b[0m \u001b[43m                \u001b[49m\u001b[43mrootdir\u001b[49m\u001b[38;5;241;43m=\u001b[39;49m\u001b[38;5;28;43mself\u001b[39;49m\u001b[38;5;241;43m.\u001b[39;49m\u001b[43mrootdir\u001b[49m\u001b[43m,\u001b[49m\n\u001b[1;32m    160\u001b[0m \u001b[43m                \u001b[49m\u001b[43mfilename_append\u001b[49m\u001b[38;5;241;43m=\u001b[39;49m\u001b[38;5;28;43mself\u001b[39;49m\u001b[38;5;241;43m.\u001b[39;49m\u001b[43m__filename_append\u001b[49m\u001b[43m,\u001b[49m\n\u001b[1;32m    161\u001b[0m \u001b[43m            \u001b[49m\u001b[43m)\u001b[49m\n\u001b[1;32m    162\u001b[0m         )\n\u001b[1;32m    163\u001b[0m \u001b[38;5;28;01mif\u001b[39;00m \u001b[38;5;28mlen\u001b[39m(\u001b[38;5;28mself\u001b[39m\u001b[38;5;241m.\u001b[39mchunks_to_upload) \u001b[38;5;241m>\u001b[39m \u001b[38;5;241m0\u001b[39m \u001b[38;5;129;01mand\u001b[39;00m \u001b[38;5;28mself\u001b[39m\u001b[38;5;241m.\u001b[39m__fully_enqueued:\n\u001b[1;32m    164\u001b[0m     \u001b[38;5;28mself\u001b[39m\u001b[38;5;241m.\u001b[39m__fully_enqueued \u001b[38;5;241m=\u001b[39m \u001b[38;5;28;01mFalse\u001b[39;00m\n",
      "File \u001b[0;32m~/opt/anaconda3/envs/openmsi/lib/python3.9/site-packages/openmsistream/data_file_io/entity/data_file_chunk.py:158\u001b[0m, in \u001b[0;36mDataFileChunk.__init__\u001b[0;34m(self, filepath, filename, file_hash, chunk_hash, chunk_offset_read, chunk_offset_write, chunk_size, chunk_i, n_total_chunks, rootdir, filename_append, data)\u001b[0m\n\u001b[1;32m    156\u001b[0m \u001b[38;5;28mself\u001b[39m\u001b[38;5;241m.\u001b[39m__rootdir \u001b[38;5;241m=\u001b[39m rootdir\n\u001b[1;32m    157\u001b[0m \u001b[38;5;28;01mif\u001b[39;00m \u001b[38;5;28mself\u001b[39m\u001b[38;5;241m.\u001b[39m__rootdir \u001b[38;5;129;01mis\u001b[39;00m \u001b[38;5;129;01mnot\u001b[39;00m \u001b[38;5;28;01mNone\u001b[39;00m:\n\u001b[0;32m--> 158\u001b[0m     \u001b[38;5;28mself\u001b[39m\u001b[38;5;241m.\u001b[39m__relative_filepath \u001b[38;5;241m=\u001b[39m \u001b[38;5;28;43mself\u001b[39;49m\u001b[38;5;241;43m.\u001b[39;49m\u001b[43m__filepath\u001b[49m\u001b[38;5;241;43m.\u001b[39;49m\u001b[43mrelative_to\u001b[49m\u001b[43m(\u001b[49m\u001b[38;5;28;43mself\u001b[39;49m\u001b[38;5;241;43m.\u001b[39;49m\u001b[43m__rootdir\u001b[49m\u001b[43m)\u001b[49m\n\u001b[1;32m    159\u001b[0m \u001b[38;5;28;01melse\u001b[39;00m:\n\u001b[1;32m    160\u001b[0m     \u001b[38;5;28mself\u001b[39m\u001b[38;5;241m.\u001b[39m__relative_filepath \u001b[38;5;241m=\u001b[39m \u001b[38;5;28mself\u001b[39m\u001b[38;5;241m.\u001b[39m__filepath\n",
      "File \u001b[0;32m~/opt/anaconda3/envs/openmsi/lib/python3.9/pathlib.py:939\u001b[0m, in \u001b[0;36mPurePath.relative_to\u001b[0;34m(self, *other)\u001b[0m\n\u001b[1;32m    937\u001b[0m \u001b[38;5;28;01mif\u001b[39;00m (root \u001b[38;5;129;01mor\u001b[39;00m drv) \u001b[38;5;28;01mif\u001b[39;00m n \u001b[38;5;241m==\u001b[39m \u001b[38;5;241m0\u001b[39m \u001b[38;5;28;01melse\u001b[39;00m cf(abs_parts[:n]) \u001b[38;5;241m!=\u001b[39m cf(to_abs_parts):\n\u001b[1;32m    938\u001b[0m     formatted \u001b[38;5;241m=\u001b[39m \u001b[38;5;28mself\u001b[39m\u001b[38;5;241m.\u001b[39m_format_parsed_parts(to_drv, to_root, to_parts)\n\u001b[0;32m--> 939\u001b[0m     \u001b[38;5;28;01mraise\u001b[39;00m \u001b[38;5;167;01mValueError\u001b[39;00m(\u001b[38;5;124m\"\u001b[39m\u001b[38;5;132;01m{!r}\u001b[39;00m\u001b[38;5;124m is not in the subpath of \u001b[39m\u001b[38;5;132;01m{!r}\u001b[39;00m\u001b[38;5;124m\"\u001b[39m\n\u001b[1;32m    940\u001b[0m             \u001b[38;5;124m\"\u001b[39m\u001b[38;5;124m OR one path is relative and the other is absolute.\u001b[39m\u001b[38;5;124m\"\u001b[39m\n\u001b[1;32m    941\u001b[0m                      \u001b[38;5;241m.\u001b[39mformat(\u001b[38;5;28mstr\u001b[39m(\u001b[38;5;28mself\u001b[39m), \u001b[38;5;28mstr\u001b[39m(formatted)))\n\u001b[1;32m    942\u001b[0m \u001b[38;5;28;01mreturn\u001b[39;00m \u001b[38;5;28mself\u001b[39m\u001b[38;5;241m.\u001b[39m_from_parsed_parts(\u001b[38;5;124m'\u001b[39m\u001b[38;5;124m'\u001b[39m, root \u001b[38;5;28;01mif\u001b[39;00m n \u001b[38;5;241m==\u001b[39m \u001b[38;5;241m1\u001b[39m \u001b[38;5;28;01melse\u001b[39;00m \u001b[38;5;124m'\u001b[39m\u001b[38;5;124m'\u001b[39m,\n\u001b[1;32m    943\u001b[0m                                abs_parts[n:])\n",
      "\u001b[0;31mValueError\u001b[0m: '/Users/namanparikh/Documents/GitHub/paradim/reu2024-hyperspectral-camera/streaming/test_folder/.ipynb_checkpoints/test_data-checkpoint.txt' is not in the subpath of '/Users/namanparikh/Documents/GitHub/paradim/reu2024-hyperspectral-camera/streaming/test_folder/test_data.txt' OR one path is relative and the other is absolute."
     ]
    }
   ],
   "source": [
    "# For every file in the folder\n",
    "for iuf, upload_file_path in enumerate(TEST_FOLDER_DIR.rglob(\"*\")):\n",
    "    # Skip any hidden files (like .DS_Store....)\n",
    "    if upload_file_path.is_dir() or upload_file_path.name.startswith(\".\"):\n",
    "        continue\n",
    "    # Create an UploadDataFile and call the function to upload it to the topic\n",
    "    upload_file = UploadDataFile(upload_file_path, rootdir=TEST_FILE_DIR, logger=logger)\n",
    "    upload_file.upload_whole_file(CONFIG_FILE_PATH, TOPIC_NAME)"
   ]
  },
  {
   "cell_type": "markdown",
   "id": "1f7cdd15-489f-40fe-956c-886a712a316b",
   "metadata": {},
   "source": [
    "## DataUploadFileDirectory"
   ]
  },
  {
   "cell_type": "code",
   "execution_count": null,
   "id": "b1a55ea9-9356-4030-ba9d-df34128af7b8",
   "metadata": {},
   "outputs": [],
   "source": [
    "def upload_task(upload_directory, *args, **kwargs):\n",
    "    \"\"\"Run \"upload_files_as_added\" for a given DataFileUploadDirectory, and log a message\n",
    "    when it gets shut down\n",
    "\n",
    "    Args:\n",
    "        upload_directory (DataFileUploadDirectory): the DataFileUploadDirectory to run\n",
    "        args (list): passed through to \"upload_files_as_added\"\n",
    "        kwargs (dict): passed through to \"upload_files_as_added\"\n",
    "    \"\"\"\n",
    "    # This call to \"upload_files_as_added\" waits until the program is shut down\n",
    "    uploaded_filepaths = upload_directory.upload_files_as_added(*args, **kwargs)\n",
    "    msg = (\n",
    "        f\"The following files were uploaded:\\n\\t\"\n",
    "    )\n",
    "    msg += \"\\n\\t\".join([str(fp) for fp in uploaded_filepaths])\n",
    "    upload_directory.logger.info(msg)"
   ]
  },
  {
   "cell_type": "code",
   "execution_count": null,
   "id": "7c5763d6-a6fc-4160-ab7c-ad3c1bd35069",
   "metadata": {},
   "outputs": [],
   "source": [
    "# Create the DataFileUploadDirectory\n",
    "dfud = DataFileUploadDirectory(TEST_FILE_DIR, CONFIG_FILE_PATH, logger=logger)\n",
    "# Start running its \"upload_files_as_added\" function in a separate thread\n",
    "upload_thread = Thread(\n",
    "    target=upload_task,\n",
    "    args=(\n",
    "        dfud,\n",
    "        TOPIC_NAME,\n",
    "    ),\n",
    ")\n",
    "upload_thread.start()"
   ]
  },
  {
   "cell_type": "code",
   "execution_count": null,
   "id": "17d168ec-56dc-4e96-8a63-cfdadf3a41b6",
   "metadata": {},
   "outputs": [],
   "source": [
    "# Manually shut down the upload directory (if running from the command line this would\n",
    "# be like typing \"q\" in the Terminal window)\n",
    "dfud.control_command_queue.put(\"q\")\n",
    "upload_thread.join()"
   ]
  }
 ],
 "metadata": {
  "kernelspec": {
   "display_name": "Python 3 (ipykernel)",
   "language": "python",
   "name": "python3"
  },
  "language_info": {
   "codemirror_mode": {
    "name": "ipython",
    "version": 3
   },
   "file_extension": ".py",
   "mimetype": "text/x-python",
   "name": "python",
   "nbconvert_exporter": "python",
   "pygments_lexer": "ipython3",
   "version": "3.9.19"
  }
 },
 "nbformat": 4,
 "nbformat_minor": 5
}
